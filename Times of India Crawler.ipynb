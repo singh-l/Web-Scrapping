{
 "cells": [
  {
   "cell_type": "code",
   "execution_count": null,
   "metadata": {},
   "outputs": [],
   "source": [
    "import os\n",
    "import requests\n",
    "from bs4 import BeautifulSoup\n",
    "from selenium import webdriver\n",
    "import numpy as np\n",
    "import pandas as pd\n",
    "import time\n",
    "from selenium import webdriver\n",
    "from webdriver_manager.chrome import ChromeDriverManager\n",
    "\n",
    "driver = webdriver.Chrome(ChromeDriverManager().install())\n",
    "\n",
    "driver.get(\"https://timesofindia.indiatimes.com/topic/Demonetization\")\n",
    "driver.implicitly_wait(30)\n",
    "\n",
    "elm = driver.find_element_by_id('news')\n",
    "elm.send_keys(u'\\ue007')\n",
    "url_set = set()\n",
    "news_titles = []\n",
    "news_content = []\n",
    "\n",
    "while True:\n",
    "    url = driver.current_url\n",
    "    if url in url_set:\n",
    "        break\n",
    "    url_set.add(url)\n",
    "    html = driver.page_source\n",
    "    soup = BeautifulSoup(html, 'html5lib')\n",
    "    articles = soup.find_all(\"div\", class_=\"content\")\n",
    "        \n",
    "    \n",
    "    print(len(articles))\n",
    "    for n in np.arange(0, len(articles)):\n",
    "        link = \"https://timesofindia.indiatimes.com\"+articles[n].find('a')['href']\n",
    "        news = requests.get(link)\n",
    "        article_content = news.content\n",
    "        soup_article = BeautifulSoup(article_content, 'html5lib')\n",
    "        x = soup_article.find_all(\"div\", class_=\"_3WlLe clearfix\")\n",
    "        if x:\n",
    "            print(soup_article.find_all('title')[0].text)\n",
    "            title = soup_article.find_all('title')[0].text\n",
    "            content = x\n",
    "            news_titles.append(title)\n",
    "            news_content.append(x[0].text)\n",
    "    \n",
    "    click = driver.find_element_by_id('raquo')\n",
    "    click.send_keys(u'\\ue007')\n",
    "    \n",
    "# df_data = pd.DataFrame({'News Title':news_titles,'Content':news_content})\n",
    "# df_data.to_csv(r'/home/files/Documents/Fake News/Data/TOI_Triple_Talaq.csv',index=False)\n",
    "# driver.quit()"
   ]
  },
  {
   "cell_type": "code",
   "execution_count": null,
   "metadata": {},
   "outputs": [],
   "source": [
    "df_data = pd.DataFrame({'News Title':news_titles,'Content':news_content})"
   ]
  },
  {
   "cell_type": "code",
   "execution_count": null,
   "metadata": {},
   "outputs": [],
   "source": [
    "df_data"
   ]
  },
  {
   "cell_type": "code",
   "execution_count": null,
   "metadata": {},
   "outputs": [],
   "source": [
    "df_data.to_csv(r'/home/lovedeep/Documents/Fake News/Data/TOI_Demonetization.csv',index=False)"
   ]
  },
  {
   "cell_type": "code",
   "execution_count": null,
   "metadata": {},
   "outputs": [],
   "source": [
    "link = \"https://timesofindia.indiatimes.com/entertainment/hindi/bollywood/news/director-on-malala-yousafzai-biopic-dont-think-gul-makai-will-get-any-hatred/articleshow/73551702.cms\"\n",
    "news = requests.get(link)\n",
    "article_content = news.content\n",
    "soup_article = BeautifulSoup(article_content, 'html5lib')\n",
    "x = soup_article.find_all(\"div\", class_=\"_3WlLe clearfix\")\n",
    "if x:\n",
    "    print(x[0].text)\n",
    "else:\n",
    "    print('error')\n",
    "# print(x[0].text)"
   ]
  },
  {
   "cell_type": "code",
   "execution_count": null,
   "metadata": {},
   "outputs": [],
   "source": []
  },
  {
   "cell_type": "code",
   "execution_count": null,
   "metadata": {},
   "outputs": [],
   "source": []
  },
  {
   "cell_type": "code",
   "execution_count": null,
   "metadata": {},
   "outputs": [],
   "source": []
  },
  {
   "cell_type": "code",
   "execution_count": null,
   "metadata": {},
   "outputs": [],
   "source": []
  }
 ],
 "metadata": {
  "kernelspec": {
   "display_name": "Python 3",
   "language": "python",
   "name": "python3"
  },
  "language_info": {
   "codemirror_mode": {
    "name": "ipython",
    "version": 3
   },
   "file_extension": ".py",
   "mimetype": "text/x-python",
   "name": "python",
   "nbconvert_exporter": "python",
   "pygments_lexer": "ipython3",
   "version": "3.7.3"
  }
 },
 "nbformat": 4,
 "nbformat_minor": 2
}
